{
  "nbformat": 4,
  "nbformat_minor": 0,
  "metadata": {
    "colab": {
      "provenance": [],
      "authorship_tag": "ABX9TyNiSufgUIAyMgeMnei/yx4w",
      "include_colab_link": true
    },
    "kernelspec": {
      "name": "python3",
      "display_name": "Python 3"
    },
    "language_info": {
      "name": "python"
    }
  },
  "cells": [
    {
      "cell_type": "markdown",
      "metadata": {
        "id": "view-in-github",
        "colab_type": "text"
      },
      "source": [
        "<a href=\"https://colab.research.google.com/github/Purohit1999/Data_Science/blob/main/Grid_Searchcv.ipynb\" target=\"_parent\"><img src=\"https://colab.research.google.com/assets/colab-badge.svg\" alt=\"Open In Colab\"/></a>"
      ]
    },
    {
      "cell_type": "code",
      "execution_count": 1,
      "metadata": {
        "colab": {
          "base_uri": "https://localhost:8080/"
        },
        "id": "x7dPnGK_rhLi",
        "outputId": "b7993fbf-252b-40d7-fd10-aedeaf532ddc"
      },
      "outputs": [
        {
          "output_type": "stream",
          "name": "stdout",
          "text": [
            "Best Parameters: {'max_depth': 4, 'n_estimators': 100}\n",
            "Best CV Score: 0.9522784810126582\n",
            "Training Accuracy: 0.9899497487437185\n",
            "Testing Accuracy: 0.9707602339181286\n"
          ]
        }
      ],
      "source": [
        "# Step 1: Import libraries\n",
        "from sklearn.datasets import load_breast_cancer\n",
        "from sklearn.ensemble import RandomForestClassifier\n",
        "from sklearn.model_selection import train_test_split, GridSearchCV\n",
        "import pandas as pd\n",
        "\n",
        "# Step 2: Load and prepare data\n",
        "data = load_breast_cancer()\n",
        "df = pd.DataFrame(data.data, columns=data.feature_names)\n",
        "df['target'] = data.target\n",
        "\n",
        "# Step 3: Split data into features and target\n",
        "X = df.drop('target', axis=1)\n",
        "y = df['target']\n",
        "\n",
        "# Step 4: Train-test split\n",
        "Xtrain, Xtest, ytrain, ytest = train_test_split(X, y, test_size=0.3, random_state=42)\n",
        "\n",
        "# Step 5: Define model\n",
        "model = RandomForestClassifier(random_state=42)\n",
        "\n",
        "# Step 6: Define hyperparameter grid\n",
        "parameters = {\n",
        "    'n_estimators': [100, 150, 200],\n",
        "    'max_depth': [3, 4, 5]\n",
        "}\n",
        "\n",
        "# Step 7: Setup GridSearchCV\n",
        "grid = GridSearchCV(estimator=model, param_grid=parameters, cv=5)\n",
        "\n",
        "# Step 8: Fit GridSearch to training data\n",
        "grid.fit(Xtrain, ytrain)\n",
        "\n",
        "# Step 9: Print results\n",
        "print(\"Best Parameters:\", grid.best_params_)\n",
        "print(\"Best CV Score:\", grid.best_score_)\n",
        "print(\"Training Accuracy:\", grid.score(Xtrain, ytrain))\n",
        "print(\"Testing Accuracy:\", grid.score(Xtest, ytest))\n"
      ]
    },
    {
      "cell_type": "code",
      "source": [],
      "metadata": {
        "id": "QdW87FMHwcjR"
      },
      "execution_count": null,
      "outputs": []
    }
  ]
}