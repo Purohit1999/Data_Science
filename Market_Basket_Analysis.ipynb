{
  "nbformat": 4,
  "nbformat_minor": 0,
  "metadata": {
    "colab": {
      "provenance": [],
      "authorship_tag": "ABX9TyPa1t9aJKfGFav/yaJ/nc3k",
      "include_colab_link": true
    },
    "kernelspec": {
      "name": "python3",
      "display_name": "Python 3"
    },
    "language_info": {
      "name": "python"
    }
  },
  "cells": [
    {
      "cell_type": "markdown",
      "metadata": {
        "id": "view-in-github",
        "colab_type": "text"
      },
      "source": [
        "<a href=\"https://colab.research.google.com/github/Purohit1999/Data_Science/blob/main/Market_Basket_Analysis.ipynb\" target=\"_parent\"><img src=\"https://colab.research.google.com/assets/colab-badge.svg\" alt=\"Open In Colab\"/></a>"
      ]
    },
    {
      "cell_type": "code",
      "source": [
        "# Step 1: Install necessary library\n",
        "!pip install mlxtend --quiet\n",
        "\n",
        "# Step 2: Import required libraries\n",
        "import pandas as pd\n",
        "from mlxtend.preprocessing import TransactionEncoder\n",
        "from mlxtend.frequent_patterns import apriori, association_rules\n",
        "import warnings\n",
        "\n",
        "# Step 3: Sample transaction dataset\n",
        "dataset = [\n",
        "    ['milk', 'bread', 'butter'],\n",
        "    ['bread', 'butter'],\n",
        "    ['milk', 'bread'],\n",
        "    ['milk', 'bread', 'butter'],\n",
        "    ['bread']\n",
        "]\n",
        "\n",
        "# Step 4: Encode transactions to one-hot (binary format)\n",
        "te = TransactionEncoder()\n",
        "te_array = te.fit(dataset).transform(dataset)\n",
        "df = pd.DataFrame(te_array, columns=te.columns_)\n",
        "\n",
        "print(\"🔹 Transaction DataFrame (one-hot encoded):\")\n",
        "print(df)\n",
        "\n",
        "# Step 5: Find frequent itemsets using Apriori algorithm\n",
        "frequent_itemsets = apriori(df, min_support=0.6, use_colnames=True)\n",
        "\n",
        "print(\"\\n🔹 Frequent Itemsets:\")\n",
        "print(frequent_itemsets)\n",
        "\n",
        "# Step 6: Suppress divide-by-zero warnings for clean output\n",
        "warnings.filterwarnings(\"ignore\", category=RuntimeWarning)\n",
        "\n",
        "# Step 7: Generate Association Rules\n",
        "rules = association_rules(frequent_itemsets, metric=\"confidence\", min_threshold=0.7)\n",
        "\n",
        "# Optional: Display only useful columns\n",
        "rules = rules[['antecedents', 'consequents', 'support', 'confidence', 'lift']]\n",
        "\n",
        "# Step 8: Print the rules\n",
        "print(\"\\n🔹 Association Rules:\")\n",
        "for index, row in rules.iterrows():\n",
        "    antecedent = ', '.join(list(row['antecedents']))\n",
        "    consequent = ', '.join(list(row['consequents']))\n",
        "    print(f\"If a customer buys [{antecedent}], they are likely to buy [{consequent}]. \"\n",
        "          f\"(Support: {row['support']:.2f}, Confidence: {row['confidence']:.2f}, Lift: {row['lift']:.2f})\")\n"
      ],
      "metadata": {
        "colab": {
          "base_uri": "https://localhost:8080/"
        },
        "id": "yWlfROwiC_U3",
        "outputId": "5f7dcb90-aefe-448f-cf6e-309e36bda90a"
      },
      "execution_count": 2,
      "outputs": [
        {
          "output_type": "stream",
          "name": "stdout",
          "text": [
            "🔹 Transaction DataFrame (one-hot encoded):\n",
            "   bread  butter   milk\n",
            "0   True    True   True\n",
            "1   True    True  False\n",
            "2   True   False   True\n",
            "3   True    True   True\n",
            "4   True   False  False\n",
            "\n",
            "🔹 Frequent Itemsets:\n",
            "   support         itemsets\n",
            "0      1.0          (bread)\n",
            "1      0.6         (butter)\n",
            "2      0.6           (milk)\n",
            "3      0.6  (butter, bread)\n",
            "4      0.6    (bread, milk)\n",
            "\n",
            "🔹 Association Rules:\n",
            "If a customer buys [butter], they are likely to buy [bread]. (Support: 0.60, Confidence: 1.00, Lift: 1.00)\n",
            "If a customer buys [milk], they are likely to buy [bread]. (Support: 0.60, Confidence: 1.00, Lift: 1.00)\n"
          ]
        }
      ]
    },
    {
      "cell_type": "code",
      "source": [],
      "metadata": {
        "id": "4YPFrQohDATN"
      },
      "execution_count": null,
      "outputs": []
    }
  ]
}