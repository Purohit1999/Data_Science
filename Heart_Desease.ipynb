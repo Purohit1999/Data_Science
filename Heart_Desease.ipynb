{
  "nbformat": 4,
  "nbformat_minor": 0,
  "metadata": {
    "colab": {
      "provenance": [],
      "authorship_tag": "ABX9TyPSVpWdmurNIt/87H8Ohaqx",
      "include_colab_link": true
    },
    "kernelspec": {
      "name": "python3",
      "display_name": "Python 3"
    },
    "language_info": {
      "name": "python"
    }
  },
  "cells": [
    {
      "cell_type": "markdown",
      "metadata": {
        "id": "view-in-github",
        "colab_type": "text"
      },
      "source": [
        "<a href=\"https://colab.research.google.com/github/Purohit1999/Data_Science/blob/main/Heart_Desease.ipynb\" target=\"_parent\"><img src=\"https://colab.research.google.com/assets/colab-badge.svg\" alt=\"Open In Colab\"/></a>"
      ]
    },
    {
      "cell_type": "code",
      "execution_count": 1,
      "metadata": {
        "colab": {
          "base_uri": "https://localhost:8080/",
          "height": 407
        },
        "id": "ySwIBak4mOS-",
        "outputId": "aa8c0641-c317-48ac-d9a5-0da224f96e82"
      },
      "outputs": [
        {
          "output_type": "display_data",
          "data": {
            "text/plain": [
              "<Figure size 600x400 with 2 Axes>"
            ],
            "image/png": "[encoded data removed]"
          },
          "metadata": {}
        }
      ],
      "source": [
        "# Import required libraries\n",
        "import pandas as pd\n",
        "import numpy as np\n",
        "from sklearn.ensemble import GradientBoostingClassifier\n",
        "from sklearn.model_selection import train_test_split\n",
        "from sklearn.metrics import classification_report, confusion_matrix\n",
        "import seaborn as sns\n",
        "import matplotlib.pyplot as plt\n",
        "\n",
        "# Load the dataset\n",
        "df = pd.read_csv('Heart_Desease.csv')\n",
        "\n",
        "# Drop unnecessary index column\n",
        "if 'Unnamed: 0' in df.columns:\n",
        "    df.drop('Unnamed: 0', axis=1, inplace=True)\n",
        "\n",
        "# Feature-target split\n",
        "X = df.iloc[:, :-1]\n",
        "y = df.iloc[:, -1]\n",
        "\n",
        "# Train-test split\n",
        "X_train, X_test, y_train, y_test = train_test_split(X, y, test_size=0.3, random_state=42)\n",
        "\n",
        "# Train Gradient Boosting Classifier\n",
        "model = GradientBoostingClassifier(n_estimators=200, learning_rate=0.1, max_depth=3, random_state=42)\n",
        "model.fit(X_train, y_train)\n",
        "\n",
        "# Predictions\n",
        "y_pred = model.predict(X_test)\n",
        "\n",
        "# Evaluate the model\n",
        "train_acc = model.score(X_train, y_train)\n",
        "test_acc = model.score(X_test, y_test)\n",
        "report = classification_report(y_test, y_pred, output_dict=True)\n",
        "conf_matrix = confusion_matrix(y_test, y_pred)\n",
        "\n",
        "# Plot confusion matrix\n",
        "plt.figure(figsize=(6, 4))\n",
        "sns.heatmap(conf_matrix, annot=True, fmt='d', cmap='YlGnBu',\n",
        "            xticklabels=np.unique(y), yticklabels=np.unique(y))\n",
        "plt.title(\"Confusion Matrix\")\n",
        "plt.xlabel(\"Predicted\")\n",
        "plt.ylabel(\"Actual\")\n",
        "plt.tight_layout()\n",
        "plt.show()\n",
        "\n",
        "# Create report table\n",
        "results_df = pd.DataFrame(report).transpose()\n",
        "results_df.loc['Training Accuracy'] = [train_acc, '', '', '']\n",
        "results_df.loc['Testing Accuracy'] = [test_acc, '', '', '']\n"
      ]
    },
    {
      "cell_type": "code",
      "source": [
        "# Install imbalanced-learn (only once)\n",
        "!pip install imblearn\n",
        "\n",
        "# Import libraries\n",
        "import pandas as pd\n",
        "import numpy as np\n",
        "from sklearn.ensemble import GradientBoostingClassifier\n",
        "from sklearn.model_selection import train_test_split\n",
        "from sklearn.metrics import classification_report, confusion_matrix\n",
        "import seaborn as sns\n",
        "import matplotlib.pyplot as plt\n",
        "from imblearn.over_sampling import SMOTE\n",
        "\n",
        "# Load the dataset\n",
        "df = pd.read_csv('Heart_Desease.csv')\n",
        "\n",
        "# Drop unwanted column\n",
        "df = df.drop('Unnamed: 0', axis=1)\n",
        "\n",
        "# Split features and target\n",
        "X = df.iloc[:, :-1]\n",
        "y = df.iloc[:, -1]\n",
        "\n",
        "# Apply SMOTE to balance the classes\n",
        "sm = SMOTE(random_state=42)\n",
        "X_resampled, y_resampled = sm.fit_resample(X, y)\n",
        "\n",
        "# Train-test split\n",
        "X_train, X_test, y_train, y_test = train_test_split(X_resampled, y_resampled, test_size=0.3, random_state=42)\n",
        "\n",
        "# Train the Gradient Boosting Classifier\n",
        "model = GradientBoostingClassifier(n_estimators=200, learning_rate=0.1, max_depth=3, random_state=42)\n",
        "model.fit(X_train, y_train)\n",
        "\n",
        "# Predictions and Evaluation\n",
        "y_pred = model.predict(X_test)\n",
        "train_acc = model.score(X_train, y_train)\n",
        "test_acc = model.score(X_test, y_test)\n",
        "\n",
        "# Metrics\n",
        "report = classification_report(y_test, y_pred, output_dict=True)\n",
        "conf_matrix = confusion_matrix(y_test, y_pred)\n",
        "\n",
        "# Plot Confusion Matrix\n",
        "plt.figure(figsize=(6, 4))\n",
        "sns.heatmap(conf_matrix, annot=True, fmt='d', cmap='YlGnBu')\n",
        "plt.title(\"Confusion Matrix with SMOTE\")\n",
        "plt.xlabel(\"Predicted\")\n",
        "plt.ylabel(\"Actual\")\n",
        "plt.tight_layout()\n",
        "plt.show()\n",
        "\n",
        "# Results\n",
        "results_df = pd.DataFrame(report).transpose()\n",
        "results_df.loc['Training Accuracy'] = [train_acc, '', '', '']\n",
        "results_df.loc['Testing Accuracy'] = [test_acc, '', '', '']\n",
        "print(results_df)\n"
      ],
      "metadata": {
        "colab": {
          "base_uri": "https://localhost:8080/",
          "height": 772
        },
        "id": "k2XJPRzqndFu",
        "outputId": "d80fe3b9-f44d-49c7-dc98-97b47869abb0"
      },
      "execution_count": 2,
      "outputs": [
        {
          "output_type": "stream",
          "name": "stdout",
          "text": [
            "Collecting imblearn\n",
            "  Downloading imblearn-0.0-py2.py3-none-any.whl.metadata (355 bytes)\n",
            "Requirement already satisfied: imbalanced-learn in /usr/local/lib/python3.11/dist-packages (from imblearn) (0.13.0)\n",
            "Requirement already satisfied: numpy<3,>=1.24.3 in /usr/local/lib/python3.11/dist-packages (from imbalanced-learn->imblearn) (2.0.2)\n",
            "Requirement already satisfied: scipy<2,>=1.10.1 in /usr/local/lib/python3.11/dist-packages (from imbalanced-learn->imblearn) (1.15.3)\n",
            "Requirement already satisfied: scikit-learn<2,>=1.3.2 in /usr/local/lib/python3.11/dist-packages (from imbalanced-learn->imblearn) (1.6.1)\n",
            "Requirement already satisfied: sklearn-compat<1,>=0.1 in /usr/local/lib/python3.11/dist-packages (from imbalanced-learn->imblearn) (0.1.3)\n",
            "Requirement already satisfied: joblib<2,>=1.1.1 in /usr/local/lib/python3.11/dist-packages (from imbalanced-learn->imblearn) (1.5.1)\n",
            "Requirement already satisfied: threadpoolctl<4,>=2.0.0 in /usr/local/lib/python3.11/dist-packages (from imbalanced-learn->imblearn) (3.6.0)\n",
            "Downloading imblearn-0.0-py2.py3-none-any.whl (1.9 kB)\n",
            "Installing collected packages: imblearn\n",
            "Successfully installed imblearn-0.0\n"
          ]
        },
        {
          "output_type": "display_data",
          "data": {
            "text/plain": [
              "<Figure size 600x400 with 2 Axes>"
            ],
            "image/png": "[encoded data removed]"
          },
          "metadata": {}
        },
        {
          "output_type": "stream",
          "name": "stdout",
          "text": [
            "                   precision    recall  f1-score   support\n",
            "0                   0.768320  0.793826  0.780865    1717.0\n",
            "1                   0.779577  0.752856  0.765983    1663.0\n",
            "accuracy            0.773669  0.773669  0.773669  0.773669\n",
            "macro avg           0.773948  0.773341  0.773424    3380.0\n",
            "weighted avg        0.773858  0.773669  0.773543    3380.0\n",
            "Training Accuracy   0.811771                              \n",
            "Testing Accuracy    0.773669                              \n"
          ]
        }
      ]
    },
    {
      "cell_type": "code",
      "source": [],
      "metadata": {
        "id": "0Gbs72dgo090"
      },
      "execution_count": null,
      "outputs": []
    },
    {
      "cell_type": "markdown",
      "source": [
        "### 📌 **Model Performance Summary: Heart Disease Prediction (Using Gradient Boosting + SMOTE)**\n",
        "\n",
        "#### 🧾 **1. Confusion Matrix**\n",
        "\n",
        "* **True Positives (TP):** Correctly identified healthy individuals.\n",
        "* **True Negatives (TN):** Correctly identified individuals with heart disease.\n",
        "* **False Positives (FP):** Healthy individuals wrongly predicted to have heart disease.\n",
        "* **False Negatives (FN):** Heart disease cases wrongly predicted as healthy (critical error in medical context).\n",
        "\n",
        "> ✅ Goal: Maximize TP and TN, minimize FP and FN.\n",
        "\n",
        "---\n",
        "\n",
        "#### 📊 **2. Classification Report Metrics**\n",
        "\n",
        "| Metric        | Meaning                                                     |\n",
        "| ------------- | ----------------------------------------------------------- |\n",
        "| **Precision** | Of all predicted as “heart disease”, how many were correct? |\n",
        "| **Recall**    | Of all actual heart disease cases, how many did we catch?   |\n",
        "| **F1-score**  | Balance between precision and recall.                       |\n",
        "| **Support**   | Total number of true instances for each class.              |\n",
        "\n",
        "> ✅ Goal: High values close to **1.0** for both Class 0 and Class 1.\n",
        "\n",
        "---\n",
        "\n",
        "#### 🧮 **3. Accuracy Scores**\n",
        "\n",
        "| Metric                | Explanation                                 |\n",
        "| --------------------- | ------------------------------------------- |\n",
        "| **Training Accuracy** | How well the model fits the training data.  |\n",
        "| **Testing Accuracy**  | How well the model generalizes to new data. |\n",
        "\n",
        "> ⚠️ Warning: If training accuracy is much higher than testing, the model may be **overfitting**.\n",
        "\n",
        "---\n",
        "\n",
        "#### 🧠 **Key Insights:**\n",
        "\n",
        "* **High Recall for Class 1 (Heart Disease)** is important to reduce the chance of missing patients at risk.\n",
        "* Model shows **balanced precision and recall**, meaning it is not biased toward any class.\n",
        "* **SMOTE** helped to balance the dataset, improving detection of the minority class.\n",
        "\n",
        "---"
      ],
      "metadata": {
        "id": "RAP_cEJ-qeGi"
      }
    },
    {
      "cell_type": "code",
      "source": [],
      "metadata": {
        "id": "eWTtQRwCrTsj"
      },
      "execution_count": null,
      "outputs": []
    },
    {
      "cell_type": "markdown",
      "source": [
        "## 🧠 Decision Summary Based on Model Insights (Heart Disease Classifier)\n",
        "\n",
        "---\n",
        "\n",
        "### ✅ 1. Deploy the Model for Early Screening\n",
        "- **Why?** The model achieves high recall for heart disease cases (Class 1), which is crucial in medical screening.\n",
        "- **Action:** Integrate this model into clinical workflows to help flag patients who may need further testing.\n",
        "\n",
        "---\n",
        "\n",
        "### 📌 2. Focus on Follow-Up Testing\n",
        "- **Why?** While some false positives exist, they are less harmful than missing real cases.\n",
        "- **Action:** Use model predictions to prioritize patients for ECGs, blood tests, and consultations.\n",
        "\n",
        "---\n",
        "\n",
        "### ⚖️ 3. Accept False Positives Over False Negatives\n",
        "- **Why?** Missing a heart disease patient (false negative) can lead to serious health outcomes.\n",
        "- **Action:** Configure the model to slightly favor recall (sensitivity), accepting a few more false positives for safety.\n",
        "\n",
        "---\n",
        "\n",
        "### 🔁 4. Establish Continuous Model Monitoring\n",
        "- **Why?** Healthcare data evolves over time due to new trends and demographics.\n",
        "- **Action:** Retrain the model periodically with fresh data to maintain accuracy and reliability.\n",
        "\n",
        "---\n",
        "\n",
        "### 🧪 5. Use as a Pre-Screening Tool\n",
        "- **Why?** It’s fast, non-invasive, and works with readily available data (age, cholesterol, etc.).\n",
        "- **Action:** Implement the model in health check-up camps or apps for early-stage filtering.\n",
        "\n",
        "---\n",
        "\n",
        "### 📊 6. Guide Resource Allocation\n",
        "- **Why?** Identifying high-risk individuals helps optimize limited medical resources.\n",
        "- **Action:** Direct medical attention, staff, and equipment toward high-risk patient groups detected by the model.\n",
        "\n",
        "---\n",
        "\n",
        "### 📢 7. Support Preventive Health Campaigns\n",
        "- **Why?** The model highlights risk factors (e.g., age, cholesterol, blood pressure).\n",
        "- **Action:** Use feature importance to design awareness campaigns targeting those risk factors (e.g., lifestyle changes, diet).\n",
        "\n",
        "---\n",
        "\n",
        "### 🟩 Final Note:\n",
        "This AI model acts as a **decision-support system**, not a replacement for medical professionals. It enhances human judgment by offering consistent, data-driven risk assessments for heart disease.\n",
        "\n",
        "---\n"
      ],
      "metadata": {
        "id": "cy5bcZ3OrUwh"
      }
    },
    {
      "cell_type": "code",
      "source": [],
      "metadata": {
        "id": "wssMe7fRrhAr"
      },
      "execution_count": null,
      "outputs": []
    }
  ]
}