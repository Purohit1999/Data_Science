{
  "nbformat": 4,
  "nbformat_minor": 0,
  "metadata": {
    "colab": {
      "provenance": [],
      "authorship_tag": "ABX9TyMWs6/kVmMD44KIC1weko55",
      "include_colab_link": true
    },
    "kernelspec": {
      "name": "python3",
      "display_name": "Python 3"
    },
    "language_info": {
      "name": "python"
    }
  },
  "cells": [
    {
      "cell_type": "markdown",
      "metadata": {
        "id": "view-in-github",
        "colab_type": "text"
      },
      "source": [
        "<a href=\"https://colab.research.google.com/github/Purohit1999/Data_Science/blob/main/Semi_Supervised_Learning_%E2%80%93_In_Depth_Notes.ipynb\" target=\"_parent\"><img src=\"https://colab.research.google.com/assets/colab-badge.svg\" alt=\"Open In Colab\"/></a>"
      ]
    },
    {
      "cell_type": "code",
      "execution_count": 1,
      "metadata": {
        "colab": {
          "base_uri": "https://localhost:8080/"
        },
        "id": "xspCPjNjE5Dm",
        "outputId": "f713cd30-4244-488e-a2d8-968611be23ce"
      },
      "outputs": [
        {
          "output_type": "stream",
          "name": "stdout",
          "text": [
            "Test accuracy: 0.33\n"
          ]
        }
      ],
      "source": [
        "from sklearn import datasets\n",
        "from sklearn.model_selection import train_test_split\n",
        "from sklearn.semi_supervised import SelfTrainingClassifier\n",
        "from sklearn.ensemble import RandomForestClassifier\n",
        "import numpy as np\n",
        "\n",
        "# Load data\n",
        "iris = datasets.load_iris()\n",
        "X, y = iris.data, iris.target\n",
        "\n",
        "# Make some labels unknown (-1)\n",
        "rng = np.random.RandomState(42)\n",
        "random_unlabeled_points = rng.rand(len(y)) < 0.6\n",
        "y[random_unlabeled_points] = -1  # Unlabeled data\n",
        "\n",
        "# Split data\n",
        "X_train, X_test, y_train, y_test = train_test_split(X, y, test_size=0.3)\n",
        "\n",
        "# Use SelfTrainingClassifier\n",
        "base_clf = RandomForestClassifier()\n",
        "self_training_clf = SelfTrainingClassifier(base_clf)\n",
        "\n",
        "# Train on semi-labeled data\n",
        "self_training_clf.fit(X_train, y_train)\n",
        "\n",
        "# Evaluate\n",
        "score = self_training_clf.score(X_test, y_test)\n",
        "print(f\"Test accuracy: {score:.2f}\")\n"
      ]
    },
    {
      "cell_type": "code",
      "source": [
        "from sklearn import datasets\n",
        "from sklearn.semi_supervised import LabelPropagation\n",
        "import numpy as np\n",
        "\n",
        "# Load dataset\n",
        "iris = datasets.load_iris()\n",
        "X, y = iris.data, iris.target\n",
        "\n",
        "# Make 90% of the labels -1 (unlabeled)\n",
        "rng = np.random.RandomState(42)\n",
        "y_unlabeled = np.copy(y)\n",
        "y_unlabeled[rng.rand(len(y)) < 0.9] = -1\n",
        "\n",
        "# Apply Label Propagation with RBF kernel\n",
        "lp_model = LabelPropagation(kernel='rbf', gamma=0.25)\n",
        "lp_model.fit(X, y_unlabeled)\n",
        "\n",
        "# Print results\n",
        "print(\"Label Propagation accuracy:\", lp_model.score(X, y))\n"
      ],
      "metadata": {
        "colab": {
          "base_uri": "https://localhost:8080/"
        },
        "id": "f-Mh0ZcrFFGs",
        "outputId": "9f98c62e-b1a0-49d9-b065-ad3662d99d87"
      },
      "execution_count": 2,
      "outputs": [
        {
          "output_type": "stream",
          "name": "stdout",
          "text": [
            "Label Propagation accuracy: 0.6666666666666666\n"
          ]
        }
      ]
    },
    {
      "cell_type": "code",
      "source": [
        "# Step 1: Import libraries\n",
        "import numpy as np\n",
        "import pandas as pd\n",
        "from sklearn.datasets import load_digits\n",
        "from sklearn.model_selection import train_test_split\n",
        "from sklearn.semi_supervised import LabelPropagation\n",
        "from sklearn.metrics import accuracy_score\n",
        "import matplotlib.pyplot as plt\n",
        "\n",
        "# Step 2: Load and prepare data\n",
        "data = load_digits()\n",
        "X = data.data\n",
        "y = data.target\n",
        "\n",
        "# Step 3: Create semi-supervised labels\n",
        "rng = np.random.RandomState(42)\n",
        "y_semi = np.copy(y)\n",
        "\n",
        "# Mask 80% of labels as -1 (unlabeled)\n",
        "mask = rng.rand(len(y)) < 0.8\n",
        "y_semi[mask] = -1\n",
        "\n",
        "# Step 4: Train Label Propagation Model\n",
        "lp_model = LabelPropagation(kernel='rbf', gamma=0.25)\n",
        "lp_model.fit(X, y_semi)\n",
        "\n",
        "# Step 5: Evaluate on the originally labeled data\n",
        "y_pred = lp_model.transduction_\n",
        "accuracy = accuracy_score(y[~mask], y_pred[~mask])\n",
        "print(f\"Accuracy on known labels: {accuracy:.4f}\")\n",
        "\n",
        "# Step 6: Show a few predicted results\n",
        "fig, axes = plt.subplots(2, 5, figsize=(10, 5))\n",
        "for i, ax in enumerate(axes.ravel()):\n",
        "    ax.imshow(X[i].reshape(8, 8), cmap='gray')\n",
        "    ax.set_title(f\"Label: {y[i]}\\nPred: {y_pred[i]}\")\n",
        "    ax.axis('off')\n",
        "\n",
        "plt.tight_layout()\n",
        "plt.show()\n"
      ],
      "metadata": {
        "colab": {
          "base_uri": "https://localhost:8080/",
          "height": 512
        },
        "id": "91sCHH9yFPwc",
        "outputId": "3bf050dd-8332-42f4-ae8d-f191200fa7a7"
      },
      "execution_count": 3,
      "outputs": [
        {
          "output_type": "stream",
          "name": "stdout",
          "text": [
            "Accuracy on known labels: 1.0000\n"
          ]
        },
        {
          "output_type": "display_data",
          "data": {
            "text/plain": [
              "<Figure size 1000x500 with 10 Axes>"
            ],
            "image/png": "[encoded data removed]"
          },
          "metadata": {}
        }
      ]
    },
    {
      "cell_type": "code",
      "source": [],
      "metadata": {
        "id": "MZRBblweF0pV"
      },
      "execution_count": null,
      "outputs": []
    },
    {
      "cell_type": "markdown",
      "source": [
        "### 🔍 What the Plot Means:\n",
        "\n",
        "Each subplot shows:\n",
        "\n",
        "| Element   | Meaning                                            |\n",
        "| --------- | -------------------------------------------------- |\n",
        "| **Label** | The **true digit** from the dataset (`y[i]`)       |\n",
        "| **Pred**  | The **predicted digit** by the model (`y_pred[i]`) |\n",
        "| **Image** | The 8×8 grayscale image of a handwritten digit     |\n",
        "\n",
        "---\n",
        "\n",
        "### ✅ Example from your image:\n",
        "\n",
        "* **Top-left**:\n",
        "\n",
        "  * Label: 0\n",
        "  * Pred: 0\n",
        "  * Means the model correctly predicted the digit 0.\n",
        "\n",
        "* **Bottom-left**:\n",
        "\n",
        "  * Label: 5\n",
        "  * Pred: 9\n",
        "  * Means the model predicted digit 9 instead of 5 → ❌ incorrect prediction.\n",
        "\n",
        "---\n",
        "\n",
        "### 🧠 What This Tells You:\n",
        "\n",
        "* The model is generally performing **very well** — most predictions match the true labels.\n",
        "* The model is learning to classify digits accurately even though it was only trained on **20% labeled data** (80% was unlabeled).\n",
        "* The accuracy printed (`Accuracy on known labels: 1.0000`) refers only to the subset of labeled data you evaluated on.\n",
        "\n",
        "> **Why this is powerful**: You're seeing a successful example of **semi-supervised learning** using Label Propagation where the model learns from both labeled and unlabeled data — and it gets most of them right!\n",
        "\n",
        "---\n",
        "\n"
      ],
      "metadata": {
        "id": "S2IgfBVsJr4V"
      }
    },
    {
      "cell_type": "code",
      "source": [],
      "metadata": {
        "id": "13B3UCy3QI_f"
      },
      "execution_count": null,
      "outputs": []
    },
    {
      "cell_type": "markdown",
      "source": [
        "### Label Spreading to Digits Dataset"
      ],
      "metadata": {
        "id": "dgmeS8D3QLV6"
      }
    },
    {
      "cell_type": "code",
      "source": [
        "from sklearn.semi_supervised import LabelSpreading\n",
        "from sklearn.metrics import accuracy_score\n",
        "import matplotlib.pyplot as plt\n",
        "import numpy as np\n",
        "from sklearn.datasets import load_digits\n",
        "\n",
        "# Load Digits data\n",
        "data = load_digits()\n",
        "X = data.data\n",
        "y = data.target\n",
        "\n",
        "# Create semi-supervised labels: mask 80% as unlabeled\n",
        "rng = np.random.RandomState(42)\n",
        "y_semi = np.copy(y)\n",
        "mask = rng.rand(len(y)) < 0.8\n",
        "y_semi[mask] = -1  # Unlabeled data\n",
        "\n",
        "# Apply Label Spreading instead of Label Propagation\n",
        "ls_model = LabelSpreading(kernel='rbf', gamma=0.25)\n",
        "ls_model.fit(X, y_semi)\n",
        "\n",
        "# Predict and evaluate\n",
        "y_pred = ls_model.transduction_\n",
        "accuracy = accuracy_score(y[~mask], y_pred[~mask])\n",
        "print(f\"Accuracy on known labels (Label Spreading): {accuracy:.4f}\")\n",
        "\n",
        "# Visualize predictions\n",
        "fig, axes = plt.subplots(2, 5, figsize=(10, 5))\n",
        "for i, ax in enumerate(axes.ravel()):\n",
        "    ax.imshow(X[i].reshape(8, 8), cmap='gray')\n",
        "    ax.set_title(f\"Label: {y[i]}\\nPred: {y_pred[i]}\")\n",
        "    ax.axis('off')\n",
        "plt.tight_layout()\n",
        "plt.show()\n"
      ],
      "metadata": {
        "colab": {
          "base_uri": "https://localhost:8080/",
          "height": 512
        },
        "id": "CRgNTLSFQTxP",
        "outputId": "4b887021-12ff-4ccf-bb8d-35a1000f4f4c"
      },
      "execution_count": 4,
      "outputs": [
        {
          "output_type": "stream",
          "name": "stdout",
          "text": [
            "Accuracy on known labels (Label Spreading): 1.0000\n"
          ]
        },
        {
          "output_type": "display_data",
          "data": {
            "text/plain": [
              "<Figure size 1000x500 with 10 Axes>"
            ],
            "image/png": "[encoded data removed]"
          },
          "metadata": {}
        }
      ]
    },
    {
      "cell_type": "code",
      "source": [],
      "metadata": {
        "id": "5Aof1IcHQWir"
      },
      "execution_count": null,
      "outputs": []
    },
    {
      "cell_type": "markdown",
      "source": [
        "✅ Summary: Why Label Spreading is Better than Label Propagation (in your example)\n",
        "Based on your application of both Label Propagation and Label Spreading to the digits dataset with 80% unlabeled data, here’s a summary of why Label Spreading is often the better choice:\n",
        "\n",
        "🔍 Key Differences Observed:\n",
        "Aspect\tLabel Propagation\tLabel Spreading\n",
        "Handling of labels\tHard clamping (original labels fixed)\tSoft clamping (labels can evolve)\n",
        "Risk of error\tOverconfident in noisy/incorrect labels\tMore resistant to noise\n",
        "Prediction behavior\tCan overfit to labeled data\tMore balanced, generalizes better\n",
        "Flexibility\tLess flexible (stuck to initial labels)\tMore adaptable to underlying structure\n",
        "\n",
        "📊 From Your Digits Dataset Example:\n",
        "Both models produced high accuracy, but:\n",
        "\n",
        "Label Propagation incorrectly predicted some digits (e.g., 5 → 9)\n",
        "\n",
        "Label Spreading, when applied, tends to:\n",
        "\n",
        "Smooth label influence\n",
        "\n",
        "Reduce sharp mistakes\n",
        "\n",
        "Provide more stable predictions, especially when labels are sparse\n",
        "\n",
        "✅ Summary Statement:\n",
        "Label Spreading is generally more robust and reliable than Label Propagation in semi-supervised settings — especially when labeled data is limited or potentially noisy. In your digits example, Label Spreading helps improve prediction consistency by allowing the model to re-evaluate and adjust labels during propagation.\n",
        "\n"
      ],
      "metadata": {
        "id": "nrO0bOuDSPNW"
      }
    }
  ]
}