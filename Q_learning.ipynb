{
  "nbformat": 4,
  "nbformat_minor": 0,
  "metadata": {
    "colab": {
      "provenance": [],
      "include_colab_link": true
    },
    "kernelspec": {
      "name": "python3",
      "display_name": "Python 3"
    },
    "language_info": {
      "name": "python"
    }
  },
  "cells": [
    {
      "cell_type": "markdown",
      "metadata": {
        "id": "view-in-github",
        "colab_type": "text"
      },
      "source": [
        "<a href=\"https://colab.research.google.com/github/Purohit1999/Data_Science/blob/main/Q_learning.ipynb\" target=\"_parent\"><img src=\"https://colab.research.google.com/assets/colab-badge.svg\" alt=\"Open In Colab\"/></a>"
      ]
    },
    {
      "cell_type": "code",
      "execution_count": null,
      "metadata": {
        "id": "VeOIJGTzW9mi"
      },
      "outputs": [],
      "source": [
        "Q=[[0,0,0],[0,0,0],[0,0,0]]"
      ]
    },
    {
      "cell_type": "code",
      "source": [
        "alpha=0.1\n",
        "gamma=0.9\n",
        "episodes=100"
      ],
      "metadata": {
        "id": "0xCH_nWlXYQr"
      },
      "execution_count": null,
      "outputs": []
    },
    {
      "cell_type": "code",
      "source": [
        "import random\n",
        "for i in range(episodes):\n",
        "  state=random.randint(0,2)\n",
        "  action=random.randint(0,2)\n",
        "  if action==1:\n",
        "    next_state=1\n",
        "    reward=1\n",
        "  else:\n",
        "    next_state=0\n",
        "    reward=0\n",
        "  Q[state][action]=Q[state][action]+alpha*(reward+gamma*max(Q[next_state])\n",
        "  -Q[state][action])\n",
        "print(Q)\n"
      ],
      "metadata": {
        "colab": {
          "base_uri": "https://localhost:8080/"
        },
        "id": "lkvgKg1rXrtu",
        "outputId": "e7c46370-1487-40ab-8a5e-a552a765a7da"
      },
      "execution_count": null,
      "outputs": [
        {
          "output_type": "stream",
          "name": "stdout",
          "text": [
            "[[0.24170195505376496, 0.9585953900086994, 0.2535731005244991], [0.3916728286063138, 0.9627667351553162, 0.5293234767956212], [0.439940373651027, 1.0327579049639146, 0.3207490419518032]]\n"
          ]
        }
      ]
    }
  ]
}